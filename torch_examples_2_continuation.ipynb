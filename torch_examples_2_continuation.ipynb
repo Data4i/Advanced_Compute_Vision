{
  "nbformat": 4,
  "nbformat_minor": 0,
  "metadata": {
    "colab": {
      "provenance": [],
      "gpuType": "T4",
      "authorship_tag": "ABX9TyMbVL3nj7mk8R4vTk9m1U88",
      "include_colab_link": true
    },
    "kernelspec": {
      "name": "python3",
      "display_name": "Python 3"
    },
    "language_info": {
      "name": "python"
    },
    "accelerator": "GPU"
  },
  "cells": [
    {
      "cell_type": "markdown",
      "metadata": {
        "id": "view-in-github",
        "colab_type": "text"
      },
      "source": [
        "<a href=\"https://colab.research.google.com/github/Data4i/Advanced_Compute_Vision/blob/main/torch_examples_2_continuation.ipynb\" target=\"_parent\"><img src=\"https://colab.research.google.com/assets/colab-badge.svg\" alt=\"Open In Colab\"/></a>"
      ]
    },
    {
      "cell_type": "code",
      "execution_count": 2,
      "metadata": {
        "id": "vFzLBqGOzlDc"
      },
      "outputs": [],
      "source": [
        "import torch\n",
        "import numpy as np\n",
        "import time"
      ]
    },
    {
      "cell_type": "code",
      "source": [
        "device = 'cuda' if torch.cuda.is_available() else 'cpu'\n",
        "device"
      ],
      "metadata": {
        "colab": {
          "base_uri": "https://localhost:8080/",
          "height": 36
        },
        "id": "r9A96mQJ0Nvl",
        "outputId": "296c7e9f-d7aa-4d49-f7bb-116b3bbd6152"
      },
      "execution_count": 3,
      "outputs": [
        {
          "output_type": "execute_result",
          "data": {
            "text/plain": [
              "'cuda'"
            ],
            "application/vnd.google.colaboratory.intrinsic+json": {
              "type": "string"
            }
          },
          "metadata": {},
          "execution_count": 3
        }
      ]
    },
    {
      "cell_type": "code",
      "source": [
        "# Testing Out time ranges of tensor with GPU and pure numpy\n",
        "\n",
        "tensor_1 = torch.randint(low = 2, high = 50, size = (4,3), device = device).to(dtype = torch.float)\n",
        "tensor_2 = torch.randint(low = 2, high = 50, size = (3,4), device = device).to(dtype = torch.float)\n",
        "\n",
        "tensor_start_time = time.time()\n",
        "multiplied_tensor = tensor_1 @ tensor_2\n",
        "tensor_end_time = time.time()\n",
        "\n",
        "numpy_array_1 = np.random.randint(low = 2, high = 50, size = (4,3))\n",
        "numpy_array_2 = np.random.randint(low = 2, high = 50, size = (4,3))\n",
        "\n",
        "numpy_start_time = time.time()\n",
        "multiplied_numpy_array = np.multiply(numpy_array_1, numpy_array_2)\n",
        "numpy_end_time = time.time()\n",
        "\n",
        "print(f'Time taken for the GPU Tensor operation to execute: {tensor_end_time - tensor_start_time}')\n",
        "print(f'Time taken for the numpy operation run on cpu to execute: {numpy_end_time - numpy_start_time}')"
      ],
      "metadata": {
        "colab": {
          "base_uri": "https://localhost:8080/"
        },
        "id": "3Yp1npBU0VT_",
        "outputId": "6a6cbba7-a0cf-4358-ac4a-bd910a83181d"
      },
      "execution_count": 4,
      "outputs": [
        {
          "output_type": "stream",
          "name": "stdout",
          "text": [
            "Time taken for the GPU Tensor operation to execute: 0.1194608211517334\n",
            "Time taken for the numpy operation run on cpu to execute: 5.7220458984375e-05\n"
          ]
        }
      ]
    },
    {
      "cell_type": "code",
      "source": [
        "probabilities = torch.tensor([0.3, 0.7])\n",
        "samples = torch.multinomial(probabilities, num_samples = 10, replacement = True)\n",
        "print(samples)"
      ],
      "metadata": {
        "id": "tuN2JqJ52qcV",
        "colab": {
          "base_uri": "https://localhost:8080/"
        },
        "outputId": "c333ca9e-9bce-46d2-ebcd-8d8f243a9afe"
      },
      "execution_count": 5,
      "outputs": [
        {
          "output_type": "stream",
          "name": "stdout",
          "text": [
            "tensor([1, 0, 1, 0, 0, 1, 1, 1, 1, 1])\n"
          ]
        }
      ]
    },
    {
      "cell_type": "code",
      "source": [
        "tensor = torch.tensor([1,2,3,4])\n",
        "out = torch.cat((tensor, torch.tensor([5])), dim = 0)\n",
        "out"
      ],
      "metadata": {
        "colab": {
          "base_uri": "https://localhost:8080/"
        },
        "id": "9fovS1vi45St",
        "outputId": "fb77bec7-f00c-4bb4-d31e-8885a69ccb5a"
      },
      "execution_count": 6,
      "outputs": [
        {
          "output_type": "execute_result",
          "data": {
            "text/plain": [
              "tensor([1, 2, 3, 4, 5])"
            ]
          },
          "metadata": {},
          "execution_count": 6
        }
      ]
    },
    {
      "cell_type": "code",
      "source": [
        "out = torch.tril(torch.ones(5,5))\n",
        "out"
      ],
      "metadata": {
        "colab": {
          "base_uri": "https://localhost:8080/"
        },
        "id": "Ff6CGykf5Mti",
        "outputId": "00497459-e030-449f-864e-49d0d474adea"
      },
      "execution_count": 7,
      "outputs": [
        {
          "output_type": "execute_result",
          "data": {
            "text/plain": [
              "tensor([[1., 0., 0., 0., 0.],\n",
              "        [1., 1., 0., 0., 0.],\n",
              "        [1., 1., 1., 0., 0.],\n",
              "        [1., 1., 1., 1., 0.],\n",
              "        [1., 1., 1., 1., 1.]])"
            ]
          },
          "metadata": {},
          "execution_count": 7
        }
      ]
    },
    {
      "cell_type": "code",
      "source": [
        "out = torch.triu(torch.ones(5,5))\n",
        "out"
      ],
      "metadata": {
        "colab": {
          "base_uri": "https://localhost:8080/"
        },
        "id": "nvm1qCVa5eih",
        "outputId": "654f9c3b-376f-45fa-fc36-051314012486"
      },
      "execution_count": 8,
      "outputs": [
        {
          "output_type": "execute_result",
          "data": {
            "text/plain": [
              "tensor([[1., 1., 1., 1., 1.],\n",
              "        [0., 1., 1., 1., 1.],\n",
              "        [0., 0., 1., 1., 1.],\n",
              "        [0., 0., 0., 1., 1.],\n",
              "        [0., 0., 0., 0., 1.]])"
            ]
          },
          "metadata": {},
          "execution_count": 8
        }
      ]
    },
    {
      "cell_type": "code",
      "source": [
        "out = torch.zeros(5,5).masked_fill(torch.tril(torch.ones(5,5)) == 0, float('-inf'))\n",
        "out"
      ],
      "metadata": {
        "colab": {
          "base_uri": "https://localhost:8080/"
        },
        "id": "Jo-YszZP5h89",
        "outputId": "cde8e967-fc83-4a14-e2fb-1d81063d475b"
      },
      "execution_count": 9,
      "outputs": [
        {
          "output_type": "execute_result",
          "data": {
            "text/plain": [
              "tensor([[0., -inf, -inf, -inf, -inf],\n",
              "        [0., 0., -inf, -inf, -inf],\n",
              "        [0., 0., 0., -inf, -inf],\n",
              "        [0., 0., 0., 0., -inf],\n",
              "        [0., 0., 0., 0., 0.]])"
            ]
          },
          "metadata": {},
          "execution_count": 9
        }
      ]
    },
    {
      "cell_type": "code",
      "source": [
        "torch.tril(torch.ones(5,5)) == 0"
      ],
      "metadata": {
        "colab": {
          "base_uri": "https://localhost:8080/"
        },
        "id": "Y5MdUv_I6Dwt",
        "outputId": "cc67dd28-0f9c-4229-9a59-1681d8fa4805"
      },
      "execution_count": 10,
      "outputs": [
        {
          "output_type": "execute_result",
          "data": {
            "text/plain": [
              "tensor([[False,  True,  True,  True,  True],\n",
              "        [False, False,  True,  True,  True],\n",
              "        [False, False, False,  True,  True],\n",
              "        [False, False, False, False,  True],\n",
              "        [False, False, False, False, False]])"
            ]
          },
          "metadata": {},
          "execution_count": 10
        }
      ]
    },
    {
      "cell_type": "code",
      "source": [
        "torch.exp(out)"
      ],
      "metadata": {
        "colab": {
          "base_uri": "https://localhost:8080/"
        },
        "id": "watDe89Y6w1s",
        "outputId": "c9d134cc-f0f1-4004-b099-51474644f83f"
      },
      "execution_count": 11,
      "outputs": [
        {
          "output_type": "execute_result",
          "data": {
            "text/plain": [
              "tensor([[1., 0., 0., 0., 0.],\n",
              "        [1., 1., 0., 0., 0.],\n",
              "        [1., 1., 1., 0., 0.],\n",
              "        [1., 1., 1., 1., 0.],\n",
              "        [1., 1., 1., 1., 1.]])"
            ]
          },
          "metadata": {},
          "execution_count": 11
        }
      ]
    },
    {
      "cell_type": "code",
      "source": [
        "input = torch.zeros(2,3,4)\n",
        "print(f'input: {input}, input_shape: {input.shape}')\n",
        "out = input.transpose(0,2)\n",
        "print(f'Output: {out}, Output_shape: {out.shape}')"
      ],
      "metadata": {
        "colab": {
          "base_uri": "https://localhost:8080/"
        },
        "id": "6E9IPK3p7G0h",
        "outputId": "fae27c95-e7e9-4ed6-b52e-757ab5357b32"
      },
      "execution_count": 12,
      "outputs": [
        {
          "output_type": "stream",
          "name": "stdout",
          "text": [
            "input: tensor([[[0., 0., 0., 0.],\n",
            "         [0., 0., 0., 0.],\n",
            "         [0., 0., 0., 0.]],\n",
            "\n",
            "        [[0., 0., 0., 0.],\n",
            "         [0., 0., 0., 0.],\n",
            "         [0., 0., 0., 0.]]]), input_shape: torch.Size([2, 3, 4])\n",
            "Output: tensor([[[0., 0.],\n",
            "         [0., 0.],\n",
            "         [0., 0.]],\n",
            "\n",
            "        [[0., 0.],\n",
            "         [0., 0.],\n",
            "         [0., 0.]],\n",
            "\n",
            "        [[0., 0.],\n",
            "         [0., 0.],\n",
            "         [0., 0.]],\n",
            "\n",
            "        [[0., 0.],\n",
            "         [0., 0.],\n",
            "         [0., 0.]]]), Output_shape: torch.Size([4, 3, 2])\n"
          ]
        }
      ]
    },
    {
      "cell_type": "code",
      "source": [
        "# Stacking Tensors\n",
        "tensor_1 = torch.tensor([1,2,3])\n",
        "tensor_2 = torch.tensor([4,5,6])\n",
        "tensor_3 = torch.tensor([7,8,9])\n",
        "\n",
        "stacked_tensors = torch.stack([tensor_1, tensor_2, tensor_3])\n",
        "stacked_tensors"
      ],
      "metadata": {
        "colab": {
          "base_uri": "https://localhost:8080/"
        },
        "id": "9d0kzPuq7kkQ",
        "outputId": "0a92a65d-3f47-40c6-af50-be10774b8c48"
      },
      "execution_count": 13,
      "outputs": [
        {
          "output_type": "execute_result",
          "data": {
            "text/plain": [
              "tensor([[1, 2, 3],\n",
              "        [4, 5, 6],\n",
              "        [7, 8, 9]])"
            ]
          },
          "metadata": {},
          "execution_count": 13
        }
      ]
    },
    {
      "cell_type": "code",
      "source": [
        "from torch import nn\n",
        "sample = torch.tensor([10, 10, 10], dtype = torch.float)\n",
        "linear = nn.Linear(3,3, bias = False)\n",
        "print(linear(sample))"
      ],
      "metadata": {
        "colab": {
          "base_uri": "https://localhost:8080/"
        },
        "id": "7waGjbWU8Kg7",
        "outputId": "4e3c3730-bbff-4cf4-c64c-e957c1dee12a"
      },
      "execution_count": 14,
      "outputs": [
        {
          "output_type": "stream",
          "name": "stdout",
          "text": [
            "tensor([-8.4705,  5.8138,  1.2341], grad_fn=<SqueezeBackward4>)\n"
          ]
        }
      ]
    },
    {
      "cell_type": "code",
      "source": [
        "import torch.nn.functional as F\n",
        "\n",
        "# Create a tensor\n",
        "tensor_1 = torch.tensor([1., 2., 3.])\n",
        "\n",
        "softmax_output = F.softmax(tensor_1, dim = 0)\n",
        "\n",
        "print(softmax_output)"
      ],
      "metadata": {
        "colab": {
          "base_uri": "https://localhost:8080/"
        },
        "id": "ir1ArX548XIR",
        "outputId": "641895f9-3a71-4a62-b659-7e1994133592"
      },
      "execution_count": 15,
      "outputs": [
        {
          "output_type": "stream",
          "name": "stdout",
          "text": [
            "tensor([0.0900, 0.2447, 0.6652])\n"
          ]
        }
      ]
    },
    {
      "cell_type": "code",
      "source": [
        "# Define vocabulary size and embedding dimension\n",
        "vocab_size = 10\n",
        "embedding_dim = 5\n",
        "\n",
        "# Create an embedding layer\n",
        "embedding_layer = nn.Embedding(num_embeddings=vocab_size, embedding_dim=embedding_dim)\n",
        "\n",
        "# Input tensor containing indices to be embedded\n",
        "input_indices = torch.tensor([1, 4, 6, 2])\n",
        "\n",
        "# Apply the embedding layer to get dense representations\n",
        "embedded_vectors = embedding_layer(input_indices)\n",
        "\n",
        "print(embedded_vectors)\n",
        "print(embedded_vectors.shape)\n"
      ],
      "metadata": {
        "colab": {
          "base_uri": "https://localhost:8080/"
        },
        "id": "RoOj8yZM-_E6",
        "outputId": "9651325b-6cca-44a3-814e-2c649c29cb39"
      },
      "execution_count": 16,
      "outputs": [
        {
          "output_type": "stream",
          "name": "stdout",
          "text": [
            "tensor([[-0.5108,  0.8445,  0.8489,  0.3742,  1.5506],\n",
            "        [ 0.3705,  0.0929, -0.8843, -1.1747,  0.6020],\n",
            "        [ 0.2028, -0.0392,  0.6936,  1.3527,  0.2366],\n",
            "        [-0.3608, -0.4992,  0.3038, -0.1391, -0.6288]],\n",
            "       grad_fn=<EmbeddingBackward0>)\n",
            "torch.Size([4, 5])\n"
          ]
        }
      ]
    },
    {
      "cell_type": "code",
      "source": [
        "torch.rand((3,2))"
      ],
      "metadata": {
        "colab": {
          "base_uri": "https://localhost:8080/"
        },
        "id": "8MkiUWpNAvji",
        "outputId": "234245cf-c8ba-4051-95e9-82aa98db3f3f"
      },
      "execution_count": 21,
      "outputs": [
        {
          "output_type": "execute_result",
          "data": {
            "text/plain": [
              "tensor([[0.7707, 0.1101],\n",
              "        [0.0601, 0.8665],\n",
              "        [0.9685, 0.2284]])"
            ]
          },
          "metadata": {},
          "execution_count": 21
        }
      ]
    },
    {
      "cell_type": "code",
      "source": [],
      "metadata": {
        "id": "ZbR1si1gOAWQ"
      },
      "execution_count": 17,
      "outputs": []
    }
  ]
}